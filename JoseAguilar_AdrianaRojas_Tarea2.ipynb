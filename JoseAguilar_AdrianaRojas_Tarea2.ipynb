{
 "cells": [
  {
   "cell_type": "markdown",
   "id": "f239941f",
   "metadata": {},
   "source": [
    "# Tarea 2 Inteligencia artificial: Estudio profundo de sistemas conexionistas"
   ]
  },
  {
   "cell_type": "markdown",
   "id": "1c973497",
   "metadata": {},
   "source": [
    "## Integrantes\n",
    "### Jose Aguilar Salas, Adriana Rojas Mesén."
   ]
  },
  {
   "cell_type": "markdown",
   "id": "1216c559",
   "metadata": {},
   "source": [
    "## INTRODUCCION\n",
    "El análisis de datos y estadístico se está viendo revolucionado por nuevos paradigmas como lo son los modelos de redes neuronales. Estos pueden ser aplicados en el análisis estadístico clásico, referentes a los problemas de predicción y clasificación. Para los problemas de predicción, los modelos de redes neuronales son aplicados en forma similar a una variedad de modelos estadísticos tales como los modelos de regresión lineal. \n",
    "El modelo del Perceptrón Multicapa es equivalente a un modelo de regresión lineal, debido a la similitud de la variable de salida que se relaciona aplicando la función de activación sobre una combinación lineal de pesos con las variables de entrada.\n",
    "Cada neurona de la red, excepto la capa de entrada, es un sumatorio de todas sus entradas; que son las salidas de las capas anteriores multiplicadas por unos pesos. A esta suma se le añade un término adicional llamado sesgo o bias. Mediante el entrenamiento, se trata de ajustar estos parámetros aplicando una función no lineal conocida como función de activación, entre las cuales están las conocidas como sigmoide, tangente hiperbólica y ReLU.\n",
    "El algoritmo más utilizado para entrenar redes neuronales es el descenso del gradiente. En el cual se realiza el ajuste de los distintos pesos de la red neuronal hasta obtener una convergencia, es decir, un mínimo de errores. Este ajuste se hace mediante pasos cortos, mediante la tasa de aprendizaje.\n"
   ]
  },
  {
   "cell_type": "markdown",
   "id": "b8ac682e",
   "metadata": {},
   "source": [
    "## DESCRIPCION DEL PROBLEMA\n",
    "Para el análisis de un conjunto de datos obtenidos de dos ejercicios aeroespaciales: “Airfoil Self Noise” y “Challenger USA Space Shuttle O Ring”, se requiere construir desde cero una red neuronal para regresión basada en perceptrón multicapa, donde se realiza un entrenamiento por descenso de gradiente y con función de pérdida L2.\n",
    "En esta red interactiva con el usuario hay una sola capa oculta, así mismo, solicita el número de entradas, número de salidas, número de neuronas en la capa oculta, número de iteraciones y el porcentaje de datos para entrenamiento y prueba. Además, la función de activación es seleccionable entre las opciones: sigmoide, tangente hiperbólica o ReLU. Así mismo, la tasa de aprendizaje tendrá dos opciones: el mismo valor para todos los pesos (lo introduce el usuario) o semialeatoria (valor aleatorio con máxima desviación de un 20% a partir de un valor que introduce el usuario).\n",
    "Esto para identificar las variables objetivo y los factores de influencia en la topología de la red para determinar la mejor combinación de parámetros para cada ejercicio y así poder demostrar la evolución de uno de los pesos de una neurona de la capa oculta.\n",
    "\n"
   ]
  },
  {
   "cell_type": "markdown",
   "id": "7abaaa6d",
   "metadata": {},
   "source": [
    "## METODOLOGIA\n",
    "Para realizar una solución adecuada del problema a resolver, resulta oportuno idear una metodología a seguir.\n",
    "Primeramente, se realiza un estudio de la teoría aprendida en el curso sobre el desarrollo de una red para regresión basada en perceptrón multicapa, junto con todas las funciones y conceptos extra que se necesitan, además investigación de plataformas, entornos informáticos y distintos recursos disponibles para la realización de esta tarea. \n",
    "\n",
    "Seguidamente se programa una red, en donde solicita los parámetros como el número de entradas, salidas, neuronas en la capa oculta, iteraciones y porcentaje de datos para entrenar. Luego, seleccionar la función de activación a utilizar, entre: sigmoide, tangente hiperbólica y ReLU, ingresa el conjunto de datos a utilizar y la forma de distribución de la tasa de aprendizaje.\n",
    "\n",
    "Además, se entrena la red para ajustar los valores de los pesos y de los sesgos y así estimar los datos. Se realiza Fordward Pass y Back Propagation para calcular el gradiente de la función de perdida con respecto a los pesos y sesgos de la red y para reducir el gradiente del error se realiza el descenso de gradiente\n",
    "\n"
   ]
  },
  {
   "cell_type": "markdown",
   "id": "e4b6458e",
   "metadata": {},
   "source": [
    "\n",
    "## Configuración de la red por el usuario:\n",
    "Se realiza un programa interactivo con el usuario, donde este pueda ingresar los datos de la red neuronal que desea estudiar y configurarlos. Se le solicita un número de entradas, número de salidas, número de neuronas en capa oculta, número de iteraciones para el entrenamiento. Así como el porcentaje de datos para entrenamiento.\n",
    "\n",
    "## Funciones de activación:\n",
    "El usuario puede seleccionar la función de activación a utilizar, entre: sigmoide, tangente hiperbólica y ReLU. Se programa la expresión matemática para esta función de activación, así como su derivada, con las que se crea un array de funciones.\n",
    "La primera columna de ese array es la función de activación y la segunda es su derivada, lo cual es relevante para hacer el cálculo de descenso de gradiente y back propagación, y la fila de la matriz define cual de todas las funciones de activaciones se selecciona.\n",
    "\n",
    " Finalmente se grafican las funciones para observar que se esté realizando de forma correcta.\n",
    "\n",
    "## Ingreso de set de datos:\n",
    "Se trabaja con 2 conjuntos de datos diferentes:\n",
    "Airfoir self-noise Data Set\n",
    "Challenger USA Space Shuttle O-ring\n",
    "\n",
    "\n",
    "Airfoir self-noise Data Set: se tiene como entradas de la red: 'Hz',  'Angle attack',  ' Chord length',  'Free-stream velocity',  'Suction displacement thickness'. La salida es \"sound pressure level\". Es conjunto de 1503 datos.\n",
    "\n",
    "Challenger USA Space Shuttle O-ring: tiene por entradas : '0-rings', 'Launch temperature', 'pressure', 'order '. Se quiere predecir la cantidad de O-rings que experimentan problemas térmicos. Es un conjunto de 23 datos.\n",
    "\n",
    "## Tasa de aprendizaje:\n",
    "La tasa de aprendizaje se puede seleccionar entre dos opciones: el mismo valor para todos los pesos semialeatorio\n",
    "\n",
    "el mismo valor para todos los pesos : esta es la misma para todas las capas\n",
    "semialeatorio: una taza de aprendizaje semialeatoria con una variacion de un% 25 del valor ingresado por el usuario.\n",
    "\n",
    "\n",
    "Se genera un conjunto de matrices en el cual se van a guardar los valores de las diferentes tasas de aprendizajes del sistema: una matriz A para la capa oculta, de dimensión ExN y otra matriz B para la capa de salida, de dimensión NxS. E siendo el número de entradas, N el numero de neuronas y S el número de salidas. \n",
    "\n",
    "Estas matrices se mantienen en memoria y cuando se proceda\n",
    "a entrenar la red, en la etapa del descenso de gradiente se pretende seleccionar la tasa de\n",
    "aprendizaje _ que se desee.\n",
    "\n",
    "Para la primera opción: para generar una tasa de aprendizaje igual para todas las capas, se multiplica la matriz A y B por el valor ingresado por el usuario.\n",
    "\n",
    "Para la segunda opción se utiliza el comando np.random.normal() el cual genera\n",
    "muestras de una distribución normal gaussiana.\n",
    "\n",
    "\n",
    "## Capas de la red: \n",
    "Se crea una clase que represente las capas de la red para tener una lista con los atributos de las capas como lo son los pesos y el sesgo o bias\n",
    "Los pesos: es una matriz de dimensiones NxE. Donde N es el número de neuronas en la capa y E el número de entradas a la capa).\n",
    "\n",
    "El sesgo: es como un tipo de offset, se compone de un vector columna de valores aleatorios, que registra el valor de bias de cada neurona, es de dimensiones Nx1 (# neuronas capa, 1)\n",
    "\n",
    "## Creación de la red:\n",
    "Se crea la red neuronal que requiere dos parámetros, un array con la configuración dada por el usuario, explicadas anteriormente y un array con la función de activación. Se crea un array para poner en él la configuración de cada capa neuronal.\n",
    "\n",
    "## Entrenamiento de la red:\n",
    "Se entrena la red para encontrar la combinación óptima para lograr la estimación de los datos a trabajar, ajustando los valores de los pesos y de los sesgos para esto.\n",
    "\n",
    "Primeramente, se desarrolla una propagación hacia adelante o Fordward Pass que evalúa la red de forma que se pueda ver el error para ver qué tan distante se está del valor deseado. Una vez se tiene la evaluación de la red para saber su estado actual y perdida se realiza la retropropagacion o Back Propagation. Donde se calcula el gradiente de la función de perdida con respecto a los pesos y sesgos de la red. \n",
    "\n",
    "El cálculo de gradiente de error de la función respecto al peso y sesgo de la capa actual, se empieza en la capa de salida de la red y continua de manera inversa hasta llegar a la entrada de la red. El gradiente indica es cuanta influencia \tque tiene ese peso o sesgo sobre el error del sistema.\n",
    "\n",
    "Una vez obtenido el gradiente del error se realiza el descenso de gradiente, el cual es un algoritmo de optimización que ayuda a reducir el error para encontrar el mínimo global de la función, indicando la dirección o pendiente en un punto de la función de coste. Cuanto mayor sea la pendiente, se desea ir en dirección contraria para poder llegar a mínimo local de la función y por ende minimizar el error. Los gradientes son multiplicados por la tasa de aprendizaje, lo que define cuánto le afecta en cada iteración al ajuste de pesos y sesgos.\n",
    "\n",
    "\n"
   ]
  },
  {
   "cell_type": "markdown",
   "id": "46e0bf85",
   "metadata": {},
   "source": [
    "## DESARROLLO Y ANALISIS\n",
    "\n",
    "Se requiere efectuar un estudio de objetivos y factores de influencia que les permitan comparar la idoneidad de diferentes topologías de redes neuronales para modelar el fenómeno deseado, a fin de determinar la mejor combinación de parámetros para cada ejercicio. Para observar quá tan bien realiza su función la red, se puede lograr observando el comportamiento del error de entrenamientos, por lo que se establece este como variable objetivo. Los factores de influencia son aquellos parámetros que definen la organización y disposición de las neuronas en la red. Estos son: número de neuronas por capa, número de capas, grado de conectividad y tipo de conexión entre neuronas; de estos, el que no es constante es el número de neuronas por capa por lo que se establece este como factor de influencia. Además, los factores que se pueden modificar o selecionar entre opciones como: la tasa de aprendizaje y función de activación también se establecen este como factor de influencia.\n",
    "\n",
    "La evolución de uno de los pesos de una neurona de la capa oculta se podría monitorear en el primer peso de la primera neurona de la capa oculta, como hubo un error al entrenar la red, se procede a explicar lo que sería óptimo observar en el comportamiento de los pesos de una neurona; este valor, en sus primeras iteraciones tendrá valores aleatorios y con cambios muy drásticos entre ellas y luego, mantiene una tendencia hacia un valor, esto se debe a que al principio, la neorona es responsable de todo el error y luego el valor se va acercando a una aproximación correcta"
   ]
  },
  {
   "cell_type": "markdown",
   "id": "14ccb099",
   "metadata": {},
   "source": [
    "Mediante el desarrollo de la programación a lo largo de aciertos y desaciertos fueron posibles obtener algunos experimentos pero finalmente unos cambios en la programación provocaron un error que no fue posible solucionar a la hora de entrenar la red por un ciclo de iteraciones, por lo que se explicará la estrategia de los cálculos que se pretendían hacer para obtener las expresiones de actualización de los pesos."
   ]
  },
  {
   "attachments": {
    "ec1-2.JPG": {
     "image/jpeg": "[encoded data removed]"
    }
   },
   "cell_type": "markdown",
   "id": "f5b9b5dc",
   "metadata": {},
   "source": [
    "Los pesos se ajustan como funciones de la señal de error propagación.\n",
    "Para poder corregir el error se necesita obtener el cálculo de las gradientes de la función de perdida, respecto al peso y sesgo de la capa actual, se empieza en la capa de salida de la red L y se va calculando la gradiente de error de manera inversa hasta llegar a la entrada de la red.\n",
    "La gradiente del coste es cuanta influencia tiene el peso y/o sesgo sobre el error del sistema, o dicho de otra manera que tan sensible es el coste ante perturbaciones del peso y sesgo. Al aplicar esta derivada se tiene que considerar la fórmula de la regla de la cadena pues la función de coste posee dependencias internas.\n",
    "\n",
    "![ec1-2.JPG](attachment:ec1-2.JPG)"
   ]
  },
  {
   "cell_type": "markdown",
   "id": "98afe582",
   "metadata": {},
   "source": []
  },
  {
   "cell_type": "markdown",
   "id": "1c5bb19d",
   "metadata": {},
   "source": [
    "# A continuación la programación desarrollada."
   ]
  },
  {
   "cell_type": "markdown",
   "id": "552937ed",
   "metadata": {},
   "source": [
    "# Importando librerías"
   ]
  },
  {
   "cell_type": "code",
   "execution_count": 1,
   "id": "394e2da7",
   "metadata": {},
   "outputs": [],
   "source": [
    "import tensorflow as tf\n",
    "import numpy as np #permite trabajar con operaciones matriciales\n",
    "import matplotlib.pyplot as plt #graficar datos\n",
    "import pandas as pd # para leer y escribir datos\n",
    "import seaborn as sns #grafica los datos de entrada"
   ]
  },
  {
   "cell_type": "markdown",
   "id": "24fbf57c",
   "metadata": {},
   "source": [
    "# Ingreso de datos"
   ]
  },
  {
   "cell_type": "code",
   "execution_count": 2,
   "id": "9360be21",
   "metadata": {},
   "outputs": [
    {
     "name": "stdout",
     "output_type": "stream",
     "text": [
      "Ingrese los datos de la red neuronal que desea estudiar\n",
      "Número de entradas: 2\n",
      "Número de salidas: 2\n",
      "Número de neuronas en capa oculta: 4\n",
      "Número de iteraciones para el entrenamiento: 10\n",
      "Porcentaje de datos para entrenamiento (0 - 100): 80\n",
      "funcion de activicacion a utilizar 0)sign, 1)tanh, 2)relu: 0\n"
     ]
    }
   ],
   "source": [
    "#se ingresan los hiperparámetros para una red neuronal\n",
    "print(\"Ingrese los datos de la red neuronal que desea estudiar\")\n",
    "n_inputs = int(input(\"Número de entradas: \"))\n",
    "n_outputs = int(input(\"Número de salidas: \"))\n",
    "n_neuron =  int(input(\"Número de neuronas en capa oculta: \"))\n",
    "ephocs =  int(input(\"Número de iteraciones para el entrenamiento: \"))\n",
    "prct_datos_train =  int(input(\"Porcentaje de datos para entrenamiento (0 - 100): \"))\n",
    "prct_datos_train = prct_datos_train/100\n",
    "selec_act_f =  int(input(\"funcion de activicacion a utilizar 0)sign, 1)tanh, 2)relu: \")) #selecciona funcion de activación\n"
   ]
  },
  {
   "cell_type": "code",
   "execution_count": 3,
   "id": "03b3c338",
   "metadata": {},
   "outputs": [
    {
     "name": "stdout",
     "output_type": "stream",
     "text": [
      "Seleccione el Archivo de datos que desea trabajar\n",
      "1. Airfoil Self-Noise Data Set\n",
      "2. Challenger USA Space Shuttle O-Ring Data Set\n",
      ":1\n"
     ]
    }
   ],
   "source": [
    "#se selecciona cuál dataset utilizar\n",
    "print(\"Seleccione el Archivo de datos que desea trabajar\")\n",
    "print(\"1. Airfoil Self-Noise Data Set\")\n",
    "print(\"2. Challenger USA Space Shuttle O-Ring Data Set\")\n",
    "dataset = int(input(\":\"))"
   ]
  },
  {
   "cell_type": "code",
   "execution_count": 4,
   "id": "199fd6b8",
   "metadata": {},
   "outputs": [
    {
     "name": "stdout",
     "output_type": "stream",
     "text": [
      "X : (1503, 5)\n",
      "[[8.00000e+02 0.00000e+00 3.04800e-01 7.13000e+01 2.66337e-03]\n",
      " [1.00000e+03 0.00000e+00 3.04800e-01 7.13000e+01 2.66337e-03]\n",
      " [1.25000e+03 0.00000e+00 3.04800e-01 7.13000e+01 2.66337e-03]\n",
      " ...\n",
      " [4.00000e+03 1.56000e+01 1.01600e-01 3.96000e+01 5.28487e-02]\n",
      " [5.00000e+03 1.56000e+01 1.01600e-01 3.96000e+01 5.28487e-02]\n",
      " [6.30000e+03 1.56000e+01 1.01600e-01 3.96000e+01 5.28487e-02]]\n",
      "Y : (1503, 1)\n",
      "[[126.201]\n",
      " [125.201]\n",
      " [125.951]\n",
      " ...\n",
      " [106.604]\n",
      " [106.224]\n",
      " [104.204]]\n",
      "140.987\n"
     ]
    }
   ],
   "source": [
    "if dataset == 1: #posee 5 inputs\n",
    "    n_inputs = 5\n",
    "    n_outputs = 1\n",
    "    X = pd.read_csv('Data1.csv',\n",
    "                names = [\"Hz\",\"Angle_attack\",\"Chord_length\",\"Free-stream_velocity\",\"Suction_displacement_thickness\",\"sound_pressure_level\"])\n",
    "    Y = X.pop(\"sound_pressure_level\")\n",
    "    X =  np.array(pd.DataFrame(X))  #pasa los datos de tipo pandas a numpy\n",
    "    Y =  np.array(pd.DataFrame(Y))\n",
    "    print(\"X :\", X.shape)\n",
    "    print(X)\n",
    "    print(\"Y :\", Y.shape)\n",
    "    print(Y)\n",
    "    Y_max = np.amax(Y)\n",
    "    print(Y_max)\n",
    "    if selec_act_f == 1 or selec_act_f == 0:\n",
    "        Y = np.multiply(1/( 1.42 * Y_max), Y)\n",
    "    else:\n",
    "        Y = np.multiply(1/(Y_max), Y)\n",
    "\n",
    "#Variables para el primer conjutno de Datos\n",
    "#1. Frequency, in Hertzs.\n",
    "#2. Angle of attack, in degrees.\n",
    "#3. Chord length, in meters.\n",
    "#4. Free-stream velocity, in meters per second.\n",
    "#5. Suction side displacement thickness, in meters.\n",
    "#The only output is:\n",
    "#6. Scaled sound pressure level, in decibels.\n",
    "\n",
    "\n",
    "\n",
    "if dataset == 2: #posee 4 inputs\n",
    "    n_inputs = 4\n",
    "    n_outputs = 1\n",
    "    X = pd.read_csv('Data2.csv',\n",
    "                names = [\"O-rings\",\"thermal_distress\",\"Launch_temperature\",\"pressure\",\"order_fl\"])\n",
    "    Y = X.pop(\"thermal_distress\")\n",
    "    X = np.array(pd.DataFrame(X))  #pasa los datos de tipo pandas a numpy\n",
    "    Y = np.array(pd.DataFrame(Y))\n",
    "    print(\"X :\", X.shape)\n",
    "    print(X)\n",
    "    print(\"Y :\", Y.shape)\n",
    "    print(Y)\n",
    "\n",
    "#Variables para el segundo conjutno de datos\n",
    "#1. Number of O-rings at risk on a given flight\n",
    "#2. Number experiencing thermal distress\n",
    "#3. Launch temperature (degrees F)\n",
    "#4. Leak-check pressure (psi)\n",
    "#5. Temporal order of flight"
   ]
  },
  {
   "cell_type": "code",
   "execution_count": 5,
   "id": "63977152",
   "metadata": {},
   "outputs": [],
   "source": [
    "X_train, X_val = np.split(X,[int(prct_datos_train * len(X))]) #hace el split de los datos entrenamiento vs. validacion\n",
    "Y_train, Y_val = np.split(Y,[int(prct_datos_train * len(X))])\n"
   ]
  },
  {
   "cell_type": "code",
   "execution_count": 6,
   "id": "bca93518",
   "metadata": {},
   "outputs": [],
   "source": [
    "#Se define la función que determina las opciones para la tasa de aprendizaje\n",
    "def tasa(l_rate_input):\n",
    "    A = np.ones([n_inputs, n_neuron])\n",
    "    B = np.ones([n_neuron, n_outputs])\n",
    "    s = True\n",
    "    while s:\n",
    "        #1) El mismo valor para todos los pesos\n",
    "        if int(l_rate_input)==1: \n",
    "            _lr = float(input(\"Ingrese el valor: \"))\n",
    "            lr = np.array([A*_lr, B*_lr])\n",
    "            s = False\n",
    "        #2) Semialeatorio, ingresar numero para ref Ruido Gauss\n",
    "        elif int(l_rate_input)==2:\n",
    "            _lr = int(input(\"Ingrese un valor base: \"))\n",
    "            p = np.random.normal(_lr, 0.25, [n_inputs, n_neuron])\n",
    "            q = np.random.normal(_lr, 0.25, [n_neuron, n_outputs])\n",
    "            lr = np.array([p, q])\n",
    "            s = False\n",
    "        else:\n",
    "            l_rate_input = input(\"Digite una entrada válida: \\n\")\n",
    "  \n",
    "    return lr\n",
    "  \n"
   ]
  },
  {
   "cell_type": "code",
   "execution_count": 7,
   "id": "0551ec64",
   "metadata": {},
   "outputs": [
    {
     "name": "stdout",
     "output_type": "stream",
     "text": [
      "Seleccione la forma de la tasa de aprendizaje \n",
      "         1) El mismo valor para todos los pesos \n",
      "         2) Semialeatorio, ingresar numero para ref Ruido Gauss \n",
      "  \n",
      "Opción:2\n",
      "Ingrese un valor base: 1\n",
      "[array([[0.88645734, 0.93603807, 1.18844111, 0.92459922],\n",
      "       [1.15067503, 0.6781327 , 0.7305837 , 0.63495503],\n",
      "       [0.91731513, 1.42823562, 1.21980296, 1.11167464],\n",
      "       [1.05912269, 0.84908945, 0.78629222, 0.64950591],\n",
      "       [1.25288741, 0.58357014, 1.04372144, 0.67873734]])\n",
      " array([[0.56285503],\n",
      "       [0.89558894],\n",
      "       [1.35245191],\n",
      "       [0.70185212]])]\n"
     ]
    },
    {
     "name": "stderr",
     "output_type": "stream",
     "text": [
      "<ipython-input-6-521de79b0255>:17: VisibleDeprecationWarning: Creating an ndarray from ragged nested sequences (which is a list-or-tuple of lists-or-tuples-or ndarrays with different lengths or shapes) is deprecated. If you meant to do this, you must specify 'dtype=object' when creating the ndarray\n",
      "  lr = np.array([p, q])\n"
     ]
    },
    {
     "data": {
      "text/plain": [
       "[<matplotlib.lines.Line2D at 0x289ca044d00>]"
      ]
     },
     "execution_count": 7,
     "metadata": {},
     "output_type": "execute_result"
    },
    {
     "data": {
      "image/png": "[encoded data removed]",
      "text/plain": [
       "<Figure size 432x288 with 2 Axes>"
      ]
     },
     "metadata": {
      "needs_background": "light"
     },
     "output_type": "display_data"
    },
    {
     "data": {
      "image/png": "[encoded data removed]",
      "text/plain": [
       "<Figure size 432x288 with 2 Axes>"
      ]
     },
     "metadata": {
      "needs_background": "light"
     },
     "output_type": "display_data"
    },
    {
     "data": {
      "image/png": "[encoded data removed]",
      "text/plain": [
       "<Figure size 432x288 with 2 Axes>"
      ]
     },
     "metadata": {
      "needs_background": "light"
     },
     "output_type": "display_data"
    }
   ],
   "source": [
    "#se solicita la forma de la tasa de aprendizaje\n",
    "print(\"Seleccione la forma de la tasa de aprendizaje \\n \\\n",
    "        1) El mismo valor para todos los pesos \\n \\\n",
    "        2) Semialeatorio, ingresar numero para ref Ruido Gauss \\n  \" )\n",
    "l_rate_input =  int(input(\"Opción:\" ))\n",
    "lr = tasa(l_rate_input)\n",
    "print(lr)\n",
    "\n",
    "#Se definen las funciones de activación\n",
    "sign = (lambda x: 1 / (1 + np.e **(-x)),\n",
    "        lambda x : x*(1-x))\n",
    "tanh = (lambda x: (np.e **(x) - np.e**(-x)) / (np.e **(x) + np.e **(-x)),\n",
    "        lambda x: 1 - ((np.e **(x) - np.e **(-x)) / (np.e **(x) + np.e **(-x))**2 ))\n",
    "relu = (lambda x: np.maximum(0,x),\n",
    "        lambda x: 1 if x>=0 else 0)\n",
    "\n",
    "funciones_act = [sign,tanh,relu]\n",
    "\n",
    "#Se grafican las funciónes de activación junto con sus derivadas para comprobar su forma.\n",
    "fig, axs = plt.subplots(2)\n",
    "fig.suptitle('Funcion Sigmoid(x)')\n",
    "_x = np.linspace(-5, 5 , 100)\n",
    "axs[0].plot(_x, sign[0](_x))\n",
    "axs[1].plot(_x, sign[1](_x))\n",
    "\n",
    "fig, axs = plt.subplots(2)\n",
    "fig.suptitle('Funcion tanh(x)')\n",
    "_x = np.linspace(-5, 5 , 100)\n",
    "axs[0].plot(_x, tanh[0](_x))\n",
    "axs[1].plot(_x, tanh[1](_x))\n",
    "\n",
    "fig, axs = plt.subplots(2)\n",
    "fig.suptitle('Funcion ReLu(x)')\n",
    "_x = np.linspace(-5, 5 , 100)\n",
    "axs[0].plot(_x, relu[0](_x))\n"
   ]
  },
  {
   "cell_type": "code",
   "execution_count": 8,
   "id": "1cffa03c",
   "metadata": {},
   "outputs": [],
   "source": [
    "# Se define la clase para cada capa de la red neuronal \n",
    "class neural_layer():\n",
    "    def __init__(self, n_conec, n_neur, act_f):\n",
    "        self.act_f = act_f\n",
    "        self.bias = np.random.uniform(-1, 1, (1, n_neur)) \n",
    "        self.w = np.random.uniform(-0.05, 0.05, (n_conec, n_neur))\n"
   ]
  },
  {
   "cell_type": "code",
   "execution_count": 9,
   "id": "c5f525ed",
   "metadata": {},
   "outputs": [],
   "source": [
    "#Se crea la red neuronal \n",
    "def crear_nn(entradas, act_f):\n",
    "    nn = [] # vector de capas\n",
    "    for i, layer in enumerate(entradas[:-1]): # va creando la capas ocultas y de salida\n",
    "        nn.append(neural_layer(entradas[i], entradas[i+1], act_f))\n",
    "    return nn"
   ]
  },
  {
   "cell_type": "code",
   "execution_count": 10,
   "id": "30253485",
   "metadata": {},
   "outputs": [],
   "source": [
    "#Función que entrena la red neuronal\n",
    "\n",
    "#Se define la función de pérdida l2 junto con su derivada\n",
    "l2_error = (lambda Yp, Yr: np.mean((Yp - Yr) **2),\n",
    "            lambda Yp, Yr: (Yp - Yr))\n",
    "\n",
    "#Se define la red neuronal\n",
    "entradas = [n_inputs , n_neuron, n_outputs]\n",
    "red_neuronal = crear_nn(entradas, sign)"
   ]
  },
  {
   "cell_type": "code",
   "execution_count": 11,
   "id": "d3a3ff32",
   "metadata": {},
   "outputs": [],
   "source": [
    "#Se define la función que entrena la red en una iteración\n",
    "def train(red_reuronal, X, Y, l2_error, lr, entreno=True):\n",
    "  \n",
    "    out = [(None,X)]\n",
    "\n",
    "  # Forward Pass\n",
    "    for l, layer in enumerate(red_neuronal) :\n",
    "        z = out[-1][1] @ red_neuronal[l].w + red_neuronal[l].bias        \n",
    "        a = red_neuronal[l].act_f[0](z)\n",
    "        out.append((z,a))\n",
    "  #print(out[-1][1])\n",
    "\n",
    "    if entreno:\n",
    "    #backpropagation\n",
    "        deltas = []\n",
    "        for l in reversed(range(0, len(red_neuronal))):\n",
    "            z=out[l+1][0]\n",
    "            a=out[l+1][1]\n",
    "\n",
    "            if l == len(red_neuronal) - 1 :\n",
    "                deltas.insert(0, l2_error[1](a, Y) * red_neuronal[l].act_f[1](a)) #Delta ultima capa\n",
    "            else:\n",
    "                deltas.insert(0, deltas[0] @ w_aux.T * red_neuronal[l].act_f[1](a)) #Delta para capa previa\n",
    "       \n",
    "            w_aux = red_neuronal[l].w\n",
    "    \n",
    "            #Descenso de gradiente \n",
    "            red_neuronal[l].bias = red_neuronal[l].bias - np.multiply(np.mean(deltas[0], axis=0, keepdims=True) , lr[l])\n",
    "            red_neuronal[l].w = red_neuronal[l].w - np.multiply(out[l][1].T @ deltas[0] , lr[l])\n",
    "        \n",
    "    #print(out[-1][1], \"\\n\")\n",
    "    return out[-1][1]\n"
   ]
  },
  {
   "cell_type": "code",
   "execution_count": 12,
   "id": "015ce196",
   "metadata": {},
   "outputs": [
    {
     "ename": "ValueError",
     "evalue": "operands could not be broadcast together with shapes (301,4) (5,4) ",
     "output_type": "error",
     "traceback": [
      "\u001b[1;31m---------------------------------------------------------------------------\u001b[0m",
      "\u001b[1;31mValueError\u001b[0m                                Traceback (most recent call last)",
      "\u001b[1;32m<ipython-input-12-c3ca523961f6>\u001b[0m in \u001b[0;36m<module>\u001b[1;34m\u001b[0m\n\u001b[0;32m     15\u001b[0m     \u001b[1;31m#entrenamos a la red\u001b[0m\u001b[1;33m\u001b[0m\u001b[1;33m\u001b[0m\u001b[1;33m\u001b[0m\u001b[0m\n\u001b[0;32m     16\u001b[0m     \u001b[0mpY_train\u001b[0m \u001b[1;33m=\u001b[0m \u001b[0mtrain\u001b[0m\u001b[1;33m(\u001b[0m\u001b[0mneural_n\u001b[0m\u001b[1;33m,\u001b[0m  \u001b[0mX_train\u001b[0m\u001b[1;33m,\u001b[0m \u001b[0mY_train\u001b[0m\u001b[1;33m,\u001b[0m \u001b[0ml2_error\u001b[0m\u001b[1;33m,\u001b[0m \u001b[0mlr\u001b[0m\u001b[1;33m)\u001b[0m\u001b[1;33m\u001b[0m\u001b[1;33m\u001b[0m\u001b[0m\n\u001b[1;32m---> 17\u001b[1;33m     \u001b[0mpY_val\u001b[0m \u001b[1;33m=\u001b[0m \u001b[0mtrain\u001b[0m\u001b[1;33m(\u001b[0m\u001b[0mneural_n\u001b[0m\u001b[1;33m,\u001b[0m  \u001b[0mX_val\u001b[0m\u001b[1;33m,\u001b[0m \u001b[0mY_val\u001b[0m\u001b[1;33m,\u001b[0m \u001b[0ml2_error\u001b[0m\u001b[1;33m,\u001b[0m \u001b[0mlr\u001b[0m\u001b[1;33m,\u001b[0m \u001b[0mentreno\u001b[0m \u001b[1;33m=\u001b[0m \u001b[1;32mFalse\u001b[0m\u001b[1;33m)\u001b[0m\u001b[1;33m\u001b[0m\u001b[1;33m\u001b[0m\u001b[0m\n\u001b[0m\u001b[0;32m     18\u001b[0m     \u001b[1;32mif\u001b[0m \u001b[0mi\u001b[0m \u001b[1;33m%\u001b[0m \u001b[1;36m25\u001b[0m \u001b[1;33m==\u001b[0m \u001b[1;36m0\u001b[0m\u001b[1;33m:\u001b[0m\u001b[1;33m\u001b[0m\u001b[1;33m\u001b[0m\u001b[0m\n\u001b[0;32m     19\u001b[0m         \u001b[0mloss_train\u001b[0m\u001b[1;33m.\u001b[0m\u001b[0mappend\u001b[0m\u001b[1;33m(\u001b[0m\u001b[0ml2_error\u001b[0m\u001b[1;33m[\u001b[0m\u001b[1;36m0\u001b[0m\u001b[1;33m]\u001b[0m\u001b[1;33m(\u001b[0m\u001b[0mpY_train\u001b[0m\u001b[1;33m,\u001b[0m\u001b[0mY_train\u001b[0m\u001b[1;33m)\u001b[0m\u001b[1;33m)\u001b[0m\u001b[1;33m\u001b[0m\u001b[1;33m\u001b[0m\u001b[0m\n",
      "\u001b[1;32m<ipython-input-11-80376339470a>\u001b[0m in \u001b[0;36mtrain\u001b[1;34m(red_reuronal, X, Y, l2_error, lr, entreno)\u001b[0m\n\u001b[0;32m      6\u001b[0m   \u001b[1;31m# Forward Pass\u001b[0m\u001b[1;33m\u001b[0m\u001b[1;33m\u001b[0m\u001b[1;33m\u001b[0m\u001b[0m\n\u001b[0;32m      7\u001b[0m     \u001b[1;32mfor\u001b[0m \u001b[0ml\u001b[0m\u001b[1;33m,\u001b[0m \u001b[0mlayer\u001b[0m \u001b[1;32min\u001b[0m \u001b[0menumerate\u001b[0m\u001b[1;33m(\u001b[0m\u001b[0mred_neuronal\u001b[0m\u001b[1;33m)\u001b[0m \u001b[1;33m:\u001b[0m\u001b[1;33m\u001b[0m\u001b[1;33m\u001b[0m\u001b[0m\n\u001b[1;32m----> 8\u001b[1;33m         \u001b[0mz\u001b[0m \u001b[1;33m=\u001b[0m \u001b[0mout\u001b[0m\u001b[1;33m[\u001b[0m\u001b[1;33m-\u001b[0m\u001b[1;36m1\u001b[0m\u001b[1;33m]\u001b[0m\u001b[1;33m[\u001b[0m\u001b[1;36m1\u001b[0m\u001b[1;33m]\u001b[0m \u001b[1;33m@\u001b[0m \u001b[0mred_neuronal\u001b[0m\u001b[1;33m[\u001b[0m\u001b[0ml\u001b[0m\u001b[1;33m]\u001b[0m\u001b[1;33m.\u001b[0m\u001b[0mw\u001b[0m \u001b[1;33m+\u001b[0m \u001b[0mred_neuronal\u001b[0m\u001b[1;33m[\u001b[0m\u001b[0ml\u001b[0m\u001b[1;33m]\u001b[0m\u001b[1;33m.\u001b[0m\u001b[0mbias\u001b[0m\u001b[1;33m\u001b[0m\u001b[1;33m\u001b[0m\u001b[0m\n\u001b[0m\u001b[0;32m      9\u001b[0m         \u001b[0ma\u001b[0m \u001b[1;33m=\u001b[0m \u001b[0mred_neuronal\u001b[0m\u001b[1;33m[\u001b[0m\u001b[0ml\u001b[0m\u001b[1;33m]\u001b[0m\u001b[1;33m.\u001b[0m\u001b[0mact_f\u001b[0m\u001b[1;33m[\u001b[0m\u001b[1;36m0\u001b[0m\u001b[1;33m]\u001b[0m\u001b[1;33m(\u001b[0m\u001b[0mz\u001b[0m\u001b[1;33m)\u001b[0m\u001b[1;33m\u001b[0m\u001b[1;33m\u001b[0m\u001b[0m\n\u001b[0;32m     10\u001b[0m         \u001b[0mout\u001b[0m\u001b[1;33m.\u001b[0m\u001b[0mappend\u001b[0m\u001b[1;33m(\u001b[0m\u001b[1;33m(\u001b[0m\u001b[0mz\u001b[0m\u001b[1;33m,\u001b[0m\u001b[0ma\u001b[0m\u001b[1;33m)\u001b[0m\u001b[1;33m)\u001b[0m\u001b[1;33m\u001b[0m\u001b[1;33m\u001b[0m\u001b[0m\n",
      "\u001b[1;31mValueError\u001b[0m: operands could not be broadcast together with shapes (301,4) (5,4) "
     ]
    }
   ],
   "source": [
    "# Se entrena la red\n",
    "import time\n",
    "from IPython.display import clear_output\n",
    "\n",
    "#Vector entradas define la forma de la red\n",
    "entradas = [n_inputs , n_neuron, n_outputs]\n",
    "#La variable neural genera la topología de la red\n",
    "neural_n = crear_nn(entradas, funciones_act[selec_act_f])\n",
    "\n",
    "loss_train = []\n",
    "loss_val = []\n",
    "\n",
    "for i in range(ephocs):\n",
    "\n",
    "    #entrenamos a la red\n",
    "    pY_train = train(neural_n,  X_train, Y_train, l2_error, lr)\n",
    "    pY_val = train(neural_n,  X_val, Y_val, l2_error, lr, entreno = False)\n",
    "    if i % 25 == 0:\n",
    "        loss_train.append(l2_error[0](pY_train,Y_train))\n",
    "\n",
    "    \n",
    "        loss_val.append(l2_error[0](pY_val,Y_val))\n",
    "\n",
    "        clear_output(wait=True) \n",
    "        plt.plot(range(len(loss_train)),loss_train,\"b\")\n",
    "        plt.plot(range(len(loss_val)),loss_val,\"y\")\n",
    "        \n",
    "        plt.show()\n",
    "        time.sleep(0.5)\n",
    "\n",
    "    print(\"loss_train\", \"pY_train\",\"Y_train \\n\")\n",
    "    print(loss_train, pY_train,Y_train)\n"
   ]
  },
  {
   "cell_type": "code",
   "execution_count": 13,
   "id": "be503e0d",
   "metadata": {},
   "outputs": [
    {
     "name": "stdout",
     "output_type": "stream",
     "text": [
      "ENTRADAS:              [315, 12.3, 0.1016, 39.6, 0.0408268]\n",
      "SALIDA DESEADA:        [129.415]\n",
      "[[-0.01672151  0.00090988 -0.04005671  0.00769419]\n",
      " [ 0.04639735 -0.02953203 -0.01277867  0.0477216 ]\n",
      " [-0.02422397 -0.01283591  0.04164245  0.04918766]\n",
      " [-0.01327571  0.02739311  0.03548358 -0.02741352]\n",
      " [ 0.0228707  -0.01357696 -0.01050852 -0.00969825]] [[ 0.87765424  0.35504039 -0.1564635   0.02025601]]\n",
      "[[ 0.03164345]\n",
      " [ 0.03123183]\n",
      " [-0.0489118 ]\n",
      " [-0.04203083]] [[0.0598741]]\n",
      "SALIDA CALCULADA:      [[102.51986718]]\n",
      "                       [[0.51208331]]\n",
      "\n",
      " % ERROR:              [[20.78208308]]\n"
     ]
    }
   ],
   "source": [
    "#Función que estima predicciones de la red entrenada\n",
    "def prediccion(neural_n, x):\n",
    "    z = x @ neural_n[0].w + neural_n[0].bias\n",
    "  \n",
    "    print( neural_n[0].w ,neural_n[0].bias)\n",
    " \n",
    "    a = neural_n[0].act_f[0](z)\n",
    "\n",
    "    z = a @ neural_n[1].w + neural_n[1].bias\n",
    "\n",
    "    print( neural_n[1].w , neural_n[1].bias)\n",
    "\n",
    "    a = neural_n[1].act_f[0](z)\n",
    "\n",
    "    return a\n",
    "\n",
    "#Se realizan las predicciones\n",
    "dato = [315,12.3,0.1016,39.6,0.0408268,129.415]\n",
    "\n",
    "x = dato[:-1]\n",
    "print(\"ENTRADAS:             \",x)\n",
    "y = dato[-1:]\n",
    "print(\"SALIDA DESEADA:       \", y)\n",
    "#104.204\n",
    "\n",
    "salida = prediccion(neural_n, x)\n",
    "\n",
    "print(\"SALIDA CALCULADA:     \",salida*1.42*140.987)\n",
    "print(\"                      \",salida)\n",
    "\n",
    "print(\"\\n % ERROR:             \",  abs((100 * (salida*1.42*140.987 -y )  /y))  )\n"
   ]
  },
  {
   "cell_type": "code",
   "execution_count": 15,
   "id": "2f314654",
   "metadata": {},
   "outputs": [
    {
     "name": "stdout",
     "output_type": "stream",
     "text": [
      "¿Desea guardar los datos de la red entrenada? (si/no): no\n",
      "No se guardaron los datos de la red\n"
     ]
    }
   ],
   "source": [
    "# Guardar los parámetros de la red entrenada en un archivo\n",
    "guardar = input(\"¿Desea guardar los datos de la red entrenada? (si/no): \")\n",
    "if guardar == \"si\":\n",
    "    Pesos = np.array([])\n",
    "    Bias = np.array([])\n",
    "    for i in enumerate(red_neuronal):\n",
    "        Pesos.append(red_neuronal[i].bias)\n",
    "        Bias.append(red_neuronal[i].w)\n",
    "    Resultados = np.array([Pesos, Bias])\n",
    "    archivo = str(input('Escriba el nombre con el que desesa guardar el archivo: '))\n",
    "    archivo = archivo + \".csv\"\n",
    "    Resultados.to_csv(archivo)\n",
    "    print(\"Se guardó el archivo\")\n",
    "else:\n",
    "    print(\"No se guardaron los datos de la red\")\n"
   ]
  },
  {
   "cell_type": "code",
   "execution_count": null,
   "id": "9eef9237",
   "metadata": {},
   "outputs": [],
   "source": []
  }
 ],
 "metadata": {
  "kernelspec": {
   "display_name": "Python 3",
   "language": "python",
   "name": "python3"
  },
  "language_info": {
   "codemirror_mode": {
    "name": "ipython",
    "version": 3
   },
   "file_extension": ".py",
   "mimetype": "text/x-python",
   "name": "python",
   "nbconvert_exporter": "python",
   "pygments_lexer": "ipython3",
   "version": "3.9.4"
  }
 },
 "nbformat": 4,
 "nbformat_minor": 5
}
