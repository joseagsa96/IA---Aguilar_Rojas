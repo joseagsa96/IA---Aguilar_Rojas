{
 "cells": [
  {
   "cell_type": "code",
   "execution_count": 1,
   "id": "96046db6",
   "metadata": {},
   "outputs": [
    {
     "name": "stderr",
     "output_type": "stream",
     "text": [
      "ERROR: Invalid requirement: '#se'\n"
     ]
    }
   ],
   "source": [
    "!pip install pygad \n",
    "#se instala la librería pygad para trabajar computación evolutiva"
   ]
  },
  {
   "cell_type": "code",
   "execution_count": 2,
   "id": "c3422bb1",
   "metadata": {},
   "outputs": [],
   "source": [
    "import pygad   #se importan las librerías pygad (computación evolutiva) y numpy para trabajar datos\n",
    "import numpy"
   ]
  },
  {
   "cell_type": "code",
   "execution_count": 3,
   "id": "f397bc31",
   "metadata": {},
   "outputs": [],
   "source": [
    "# y = f(w1:w6) = w1x1 + w2x2 + w3x3 + w4x4 + w5x5 + 6wx6\n",
    "# where (x1,x2,x3,x4,x5,x6)=(4,-2,3.5,5,-11,-4.7) and y=100"
   ]
  },
  {
   "cell_type": "markdown",
   "id": "026b9185",
   "metadata": {},
   "source": [
    "Definicion entradas/salidas"
   ]
  },
  {
   "cell_type": "code",
   "execution_count": 4,
   "id": "d6156538",
   "metadata": {},
   "outputs": [],
   "source": [
    "function_inputs = [4,-2,3.5,5,-11,-4.7] #se definen los valores de xn\n",
    "desired_output = 100 #valor deseado de y"
   ]
  },
  {
   "cell_type": "markdown",
   "id": "b89c6845",
   "metadata": {},
   "source": [
    "Fitness Funtion"
   ]
  },
  {
   "cell_type": "code",
   "execution_count": 5,
   "id": "c05d4269",
   "metadata": {},
   "outputs": [],
   "source": [
    "def fitness_func(solution, solution_idx):                  #se define la función de calidad (fitness)\n",
    "    output = numpy.sum(solution*function_inputs)           #se define la salida como la suma de \n",
    "                                                           #multiplicaciones de la entrada (las \"xn\") \n",
    "                                                           #por el vector solución que se irá actualizando por generaciones\n",
    "            \n",
    "    fitness = 1.0 / numpy.abs(output - desired_output)     #la función de calidad está dada por 1/el valor absoluto\n",
    "                                                           #de la resta que involucra salida que se irá actualizando \n",
    "                                                           #y la deseada\n",
    "    return fitness                                         #retorna la variable fitness p/ evaluar propiamente la funcion objetivo"
   ]
  },
  {
   "cell_type": "markdown",
   "id": "fedc081d",
   "metadata": {},
   "source": [
    "Definicion de parametros:"
   ]
  },
  {
   "cell_type": "code",
   "execution_count": 6,
   "id": "953e775e",
   "metadata": {},
   "outputs": [],
   "source": [
    "fitness_function = fitness_func\n",
    "\n",
    "num_generations = 50                                     #definición del criterio de parada (generaciones límite)\n",
    "num_parents_mating = 4                                   #definición del número de padres\n",
    "\n",
    "sol_per_pop = 8                                          #población inicial \n",
    "\n",
    "num_genes = len(function_inputs)                         #número de genes (del cromosoma)\n",
    "\n",
    "init_range_low = -2                                      #mínimo del espacio de alelos\n",
    "init_range_high = 5                                      #máximo del espacio de alelos\n",
    "\n",
    "parent_selection_type = \"sss\"                            #métodos de selección de padres\n",
    "                                                         #\"steady state selection\" en este caso\n",
    "    \n",
    "keep_parents = 1                                         #número de padres que se mantiene en la siguiente generación\n",
    "\n",
    "crossover_type = \"single_point\"                          #Tipo de cruzamiento entre padres \"\"\n",
    "\n",
    "mutation_type = \"random\"                                 #Tipo de mutación random\n",
    "mutation_percent_genes = 10                              #Porcentaje de genes a mutar"
   ]
  },
  {
   "cell_type": "markdown",
   "id": "16bc30df",
   "metadata": {},
   "source": [
    "Creacion de la instancia:"
   ]
  },
  {
   "cell_type": "code",
   "execution_count": 7,
   "id": "863f7555",
   "metadata": {},
   "outputs": [
    {
     "name": "stderr",
     "output_type": "stream",
     "text": [
      "E:\\Ejecutables\\Miniconda\\envs\\ia2021\\lib\\site-packages\\pygad\\pygad.py:486: UserWarning: The percentage of genes to mutate (mutation_percent_genes=10) resutled in selecting (0) genes. The number of genes to mutate is set to 1 (mutation_num_genes=1).\n",
      "If you do not want to mutate any gene, please set mutation_type=None.\n",
      "  if not self.suppress_warnings: warnings.warn(\"The percentage of genes to mutate (mutation_percent_genes={mutation_percent}) resutled in selecting ({mutation_num}) genes. The number of genes to mutate is set to 1 (mutation_num_genes=1).\\nIf you do not want to mutate any gene, please set mutation_type=None.\".format(mutation_percent=mutation_percent_genes, mutation_num=mutation_num_genes))\n"
     ]
    }
   ],
   "source": [
    "ga_instance = pygad.GA(num_generations=num_generations,                #mediante la librería pygad se realiza la instancia\n",
    "                       num_parents_mating=num_parents_mating,          #importando todos los datos ya brindados para\n",
    "                       fitness_func=fitness_function,                  #un experimento con máximo 50 generaciones, \n",
    "                       sol_per_pop=sol_per_pop,                        #padres = 4, población inicial = 8, número de genes\n",
    "                       num_genes=num_genes,                            #brindado en el vector entrada = 6, espacio de alelos\n",
    "                       init_range_low=init_range_low,                  #función de calidad y demás hiperparámetros dados.\n",
    "                       init_range_high=init_range_high,\n",
    "                       parent_selection_type=parent_selection_type,\n",
    "                       keep_parents=keep_parents,\n",
    "                       crossover_type=crossover_type,\n",
    "                       mutation_type=mutation_type,\n",
    "                       mutation_percent_genes=mutation_percent_genes)"
   ]
  },
  {
   "cell_type": "markdown",
   "id": "1ae4c53e",
   "metadata": {},
   "source": [
    "Ejecucion de la instancia:"
   ]
  },
  {
   "cell_type": "code",
   "execution_count": 8,
   "id": "1bfd7574",
   "metadata": {},
   "outputs": [],
   "source": [
    "ga_instance.run()                    #se simula la instancia"
   ]
  },
  {
   "cell_type": "markdown",
   "id": "bf6c9cd6",
   "metadata": {},
   "source": [
    "Resultados:"
   ]
  },
  {
   "cell_type": "code",
   "execution_count": 9,
   "id": "4ccc68e2",
   "metadata": {},
   "outputs": [
    {
     "name": "stdout",
     "output_type": "stream",
     "text": [
      "Parameters of the best solution : [ 8.33890889  4.36050511  4.21687512  6.87875266 -1.43361731 -2.22454373]\n",
      "Fitness value of the best solution = 79.38101295979031\n",
      "Predicted output based on the best solution : 100.01259747089026\n"
     ]
    }
   ],
   "source": [
    "solution, solution_fitness, solution_idx = ga_instance.best_solution()           #se obtienen un despliegue de \n",
    "                                                                                 #detalles de la mejor solución.\n",
    "print(\"Parameters of the best solution : {solution}\".format(solution=solution))  #se imprimen los parámetros de la mejor sol\n",
    "print(\"Fitness value of the best solution = {solution_fitness}\".format(solution_fitness=solution_fitness)) #y el valor de la \n",
    "                                                                                                           #función de calidad\n",
    "    \n",
    "prediction = numpy.sum(numpy.array(function_inputs)*solution)       #Predicción de salida basada en la mejor solución\n",
    "print(\"Predicted output based on the best solution : {prediction}\".format(prediction=prediction)) #se imprime"
   ]
  }
 ],
 "metadata": {
  "kernelspec": {
   "display_name": "Python 3 (ipykernel)",
   "language": "python",
   "name": "python3"
  },
  "language_info": {
   "codemirror_mode": {
    "name": "ipython",
    "version": 3
   },
   "file_extension": ".py",
   "mimetype": "text/x-python",
   "name": "python",
   "nbconvert_exporter": "python",
   "pygments_lexer": "ipython3",
   "version": "3.7.10"
  }
 },
 "nbformat": 4,
 "nbformat_minor": 5
}
